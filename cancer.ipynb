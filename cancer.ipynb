{
 "cells": [
  {
   "cell_type": "code",
   "execution_count": 42,
   "metadata": {},
   "outputs": [],
   "source": [
    "import pandas as pd\n",
    "import numpy as np\n",
    "from scipy import stats"
   ]
  },
  {
   "cell_type": "code",
   "execution_count": 2,
   "metadata": {},
   "outputs": [],
   "source": [
    "import matplotlib.pyplot as plt\n",
    "import seaborn as sns\n",
    "%matplotlib inline\n",
    "sns.set_style('darkgrid')"
   ]
  },
  {
   "cell_type": "code",
   "execution_count": 3,
   "metadata": {},
   "outputs": [],
   "source": [
    "data = pd.read_csv('./Data/zpcd8615.dat', '\\t', header=None)"
   ]
  },
  {
   "cell_type": "code",
   "execution_count": 4,
   "metadata": {},
   "outputs": [],
   "source": [
    "## There are 3 spaces between the first and second terms in the .dat file so I decide to split the data on 3 spaces\n",
    "data = data[0].str.split('   ')"
   ]
  },
  {
   "cell_type": "code",
   "execution_count": 5,
   "metadata": {},
   "outputs": [],
   "source": [
    "data = pd.DataFrame(item for item in data)"
   ]
  },
  {
   "cell_type": "code",
   "execution_count": 6,
   "metadata": {},
   "outputs": [],
   "source": [
    "data.columns = ['X1', 'X2']"
   ]
  },
  {
   "cell_type": "code",
   "execution_count": 7,
   "metadata": {},
   "outputs": [],
   "source": [
    "data.drop('X2', axis=1, inplace=True)"
   ]
  },
  {
   "cell_type": "code",
   "execution_count": 8,
   "metadata": {},
   "outputs": [],
   "source": [
    "data['sex'] = data.X1.str[0]\n",
    "data['years'] = data.X1.str[1]\n",
    "data['zip'] = data.X1.str[2:7]\n",
    "data['age'] = data.X1.str[10]\n",
    "data['type'] = data.X1.str[8:10]\n",
    "#data['stage'] = data.X1.str[7]"
   ]
  },
  {
   "cell_type": "code",
   "execution_count": 9,
   "metadata": {},
   "outputs": [],
   "source": [
    "data.drop('X1', axis=1, inplace=True)"
   ]
  },
  {
   "cell_type": "code",
   "execution_count": 10,
   "metadata": {},
   "outputs": [],
   "source": [
    "sexcode = {'1':'male', '2':'female'}\n",
    "diagnosisyear = {'1':'1986-1990', '2':'1991-1995', '3':'1996-2000',\n",
    "                 '4':'2001-2005', '5':'2006-2010', '6':'2011-2015'}\n",
    "agegroup = {'1':'0-14', '2':'15-44', '3':'45-64', '4':'65+'}\n",
    "cancertype = {' 1':'oral cavity and pharynx', ' 2':'colorectal', ' 3':'lung and bronchus',\n",
    "              ' 4':'breast invasive-female', ' 5':'cervix', ' 6':'prostate',\n",
    "              ' 7':'urinary system', ' 8':'central nervous system', ' 9':'lukemias and lymphomas',\n",
    "              '10':'all other cancers', '11':'breast in-situ-female'}"
   ]
  },
  {
   "cell_type": "code",
   "execution_count": 11,
   "metadata": {},
   "outputs": [],
   "source": [
    "data['sex'].replace(sexcode, inplace=True)\n",
    "data['years'].replace(diagnosisyear, inplace=True)\n",
    "data['age'].replace(agegroup, inplace=True)\n",
    "data['type'].replace(cancertype, inplace=True)"
   ]
  },
  {
   "cell_type": "code",
   "execution_count": 12,
   "metadata": {},
   "outputs": [
    {
     "data": {
      "text/html": [
       "<div>\n",
       "<style scoped>\n",
       "    .dataframe tbody tr th:only-of-type {\n",
       "        vertical-align: middle;\n",
       "    }\n",
       "\n",
       "    .dataframe tbody tr th {\n",
       "        vertical-align: top;\n",
       "    }\n",
       "\n",
       "    .dataframe thead th {\n",
       "        text-align: right;\n",
       "    }\n",
       "</style>\n",
       "<table border=\"1\" class=\"dataframe\">\n",
       "  <thead>\n",
       "    <tr style=\"text-align: right;\">\n",
       "      <th></th>\n",
       "      <th>sex</th>\n",
       "      <th>years</th>\n",
       "      <th>zip</th>\n",
       "      <th>age</th>\n",
       "      <th>type</th>\n",
       "    </tr>\n",
       "  </thead>\n",
       "  <tbody>\n",
       "    <tr>\n",
       "      <th>0</th>\n",
       "      <td>female</td>\n",
       "      <td>2011-2015</td>\n",
       "      <td>60938</td>\n",
       "      <td>65+</td>\n",
       "      <td>breast invasive-female</td>\n",
       "    </tr>\n",
       "    <tr>\n",
       "      <th>1</th>\n",
       "      <td>female</td>\n",
       "      <td>1996-2000</td>\n",
       "      <td>61938</td>\n",
       "      <td>65+</td>\n",
       "      <td>all other cancers</td>\n",
       "    </tr>\n",
       "    <tr>\n",
       "      <th>2</th>\n",
       "      <td>female</td>\n",
       "      <td>1991-1995</td>\n",
       "      <td>61944</td>\n",
       "      <td>45-64</td>\n",
       "      <td>breast invasive-female</td>\n",
       "    </tr>\n",
       "    <tr>\n",
       "      <th>3</th>\n",
       "      <td>female</td>\n",
       "      <td>2001-2005</td>\n",
       "      <td>61944</td>\n",
       "      <td>65+</td>\n",
       "      <td>all other cancers</td>\n",
       "    </tr>\n",
       "    <tr>\n",
       "      <th>4</th>\n",
       "      <td>female</td>\n",
       "      <td>1991-1995</td>\n",
       "      <td>62959</td>\n",
       "      <td>45-64</td>\n",
       "      <td>lung and bronchus</td>\n",
       "    </tr>\n",
       "    <tr>\n",
       "      <th>5</th>\n",
       "      <td>male</td>\n",
       "      <td>2001-2005</td>\n",
       "      <td>61761</td>\n",
       "      <td>65+</td>\n",
       "      <td>colorectal</td>\n",
       "    </tr>\n",
       "    <tr>\n",
       "      <th>6</th>\n",
       "      <td>female</td>\n",
       "      <td>1996-2000</td>\n",
       "      <td>61821</td>\n",
       "      <td>65+</td>\n",
       "      <td>colorectal</td>\n",
       "    </tr>\n",
       "    <tr>\n",
       "      <th>7</th>\n",
       "      <td>female</td>\n",
       "      <td>1996-2000</td>\n",
       "      <td>61821</td>\n",
       "      <td>65+</td>\n",
       "      <td>all other cancers</td>\n",
       "    </tr>\n",
       "    <tr>\n",
       "      <th>8</th>\n",
       "      <td>female</td>\n",
       "      <td>1996-2000</td>\n",
       "      <td>61880</td>\n",
       "      <td>65+</td>\n",
       "      <td>colorectal</td>\n",
       "    </tr>\n",
       "    <tr>\n",
       "      <th>9</th>\n",
       "      <td>female</td>\n",
       "      <td>2001-2005</td>\n",
       "      <td>61880</td>\n",
       "      <td>65+</td>\n",
       "      <td>breast invasive-female</td>\n",
       "    </tr>\n",
       "  </tbody>\n",
       "</table>\n",
       "</div>"
      ],
      "text/plain": [
       "      sex      years    zip    age                    type\n",
       "0  female  2011-2015  60938    65+  breast invasive-female\n",
       "1  female  1996-2000  61938    65+       all other cancers\n",
       "2  female  1991-1995  61944  45-64  breast invasive-female\n",
       "3  female  2001-2005  61944    65+       all other cancers\n",
       "4  female  1991-1995  62959  45-64       lung and bronchus\n",
       "5    male  2001-2005  61761    65+              colorectal\n",
       "6  female  1996-2000  61821    65+              colorectal\n",
       "7  female  1996-2000  61821    65+       all other cancers\n",
       "8  female  1996-2000  61880    65+              colorectal\n",
       "9  female  2001-2005  61880    65+  breast invasive-female"
      ]
     },
     "execution_count": 12,
     "metadata": {},
     "output_type": "execute_result"
    }
   ],
   "source": [
    "data.head(10)"
   ]
  },
  {
   "cell_type": "code",
   "execution_count": null,
   "metadata": {},
   "outputs": [],
   "source": []
  },
  {
   "cell_type": "code",
   "execution_count": 13,
   "metadata": {},
   "outputs": [
    {
     "data": {
      "text/plain": [
       "<matplotlib.legend.Legend at 0x24bf23b6a58>"
      ]
     },
     "execution_count": 13,
     "metadata": {},
     "output_type": "execute_result"
    },
    {
     "data": {
      "image/png": "[encoded data removed]",
      "text/plain": [
       "<Figure size 432x288 with 1 Axes>"
      ]
     },
     "metadata": {},
     "output_type": "display_data"
    }
   ],
   "source": [
    "sns.countplot(x='years', hue='age', hue_order= ['0-14', '15-44', '45-64', '65+'],\n",
    "              data=data.sort_values(by='years'))\n",
    "plt.legend(bbox_to_anchor=(1.05, .5), loc=2)"
   ]
  },
  {
   "cell_type": "code",
   "execution_count": 14,
   "metadata": {},
   "outputs": [
    {
     "data": {
      "text/plain": [
       "2011-2015    347560\n",
       "2006-2010    339403\n",
       "2001-2005    317779\n",
       "1996-2000    297033\n",
       "1991-1995    269930\n",
       "1986-1990    229740\n",
       "Name: years, dtype: int64"
      ]
     },
     "execution_count": 14,
     "metadata": {},
     "output_type": "execute_result"
    }
   ],
   "source": [
    "data['years'].value_counts()"
   ]
  },
  {
   "cell_type": "code",
   "execution_count": 15,
   "metadata": {},
   "outputs": [
    {
     "data": {
      "text/plain": [
       "female    918198\n",
       "male      883247\n",
       "Name: sex, dtype: int64"
      ]
     },
     "execution_count": 15,
     "metadata": {},
     "output_type": "execute_result"
    }
   ],
   "source": [
    "data['sex'].value_counts()"
   ]
  },
  {
   "cell_type": "code",
   "execution_count": 16,
   "metadata": {},
   "outputs": [
    {
     "data": {
      "text/plain": [
       "65+      1022269\n",
       "45-64     617442\n",
       "15-44     150138\n",
       "0-14       11596\n",
       "Name: age, dtype: int64"
      ]
     },
     "execution_count": 16,
     "metadata": {},
     "output_type": "execute_result"
    }
   ],
   "source": [
    "data['age'].value_counts()"
   ]
  },
  {
   "cell_type": "code",
   "execution_count": 17,
   "metadata": {},
   "outputs": [
    {
     "data": {
      "text/plain": [
       "all other cancers          457634\n",
       "breast invasive-female     257344\n",
       "lung and bronchus          256801\n",
       "prostate                   233736\n",
       "colorectal                 201997\n",
       "urinary system             132428\n",
       "lukemias and lymphomas     126087\n",
       "breast in-situ-female       50837\n",
       "oral cavity and pharynx     41469\n",
       "central nervous system      23767\n",
       "cervix                      19345\n",
       "Name: type, dtype: int64"
      ]
     },
     "execution_count": 17,
     "metadata": {},
     "output_type": "execute_result"
    }
   ],
   "source": [
    "data['type'].value_counts()"
   ]
  },
  {
   "cell_type": "code",
   "execution_count": 14,
   "metadata": {},
   "outputs": [],
   "source": [
    "since2000 = ['2001-2005', '2006-2010', '2011-2015']"
   ]
  },
  {
   "cell_type": "code",
   "execution_count": 15,
   "metadata": {},
   "outputs": [],
   "source": [
    "datasub = data[(data['years'].isin(since2000))]"
   ]
  },
  {
   "cell_type": "code",
   "execution_count": 20,
   "metadata": {},
   "outputs": [
    {
     "data": {
      "text/plain": [
       "65+      548577\n",
       "45-64    369945\n",
       "15-44     80085\n",
       "0-14       6135\n",
       "Name: age, dtype: int64"
      ]
     },
     "execution_count": 20,
     "metadata": {},
     "output_type": "execute_result"
    }
   ],
   "source": [
    "datasub['age'].value_counts()"
   ]
  },
  {
   "cell_type": "code",
   "execution_count": 16,
   "metadata": {},
   "outputs": [],
   "source": [
    "zipcodes = ['60527', '60439', '60561', '60521', '60558', '60514',\n",
    "            '60559', '60525', '60480', '60515', '60516', '60517']"
   ]
  },
  {
   "cell_type": "code",
   "execution_count": 17,
   "metadata": {},
   "outputs": [],
   "source": [
    "datalocal = data[data['zip'].isin(zipcodes)]"
   ]
  },
  {
   "cell_type": "code",
   "execution_count": 18,
   "metadata": {},
   "outputs": [
    {
     "data": {
      "text/plain": [
       "60525    6102\n",
       "60515    5130\n",
       "60516    4332\n",
       "60527    3938\n",
       "60561    3798\n",
       "60559    3355\n",
       "60517    3214\n",
       "60439    3160\n",
       "60521    2997\n",
       "60558    2275\n",
       "60514    1909\n",
       "60480     772\n",
       "Name: zip, dtype: int64"
      ]
     },
     "execution_count": 18,
     "metadata": {},
     "output_type": "execute_result"
    }
   ],
   "source": [
    "datalocal['zip'].value_counts()"
   ]
  },
  {
   "cell_type": "code",
   "execution_count": 19,
   "metadata": {},
   "outputs": [
    {
     "data": {
      "text/plain": [
       "<matplotlib.axes._subplots.AxesSubplot at 0x24b88368c50>"
      ]
     },
     "execution_count": 19,
     "metadata": {},
     "output_type": "execute_result"
    },
    {
     "data": {
      "image/png": "[encoded data removed]",
      "text/plain": [
       "<Figure size 432x288 with 1 Axes>"
      ]
     },
     "metadata": {},
     "output_type": "display_data"
    }
   ],
   "source": [
    "sns.countplot(x='years', data=datalocal.sort_values(by='years'))"
   ]
  },
  {
   "cell_type": "code",
   "execution_count": 20,
   "metadata": {},
   "outputs": [
    {
     "data": {
      "text/plain": [
       "65+      22626\n",
       "45-64    14727\n",
       "15-44     3376\n",
       "0-14       253\n",
       "Name: age, dtype: int64"
      ]
     },
     "execution_count": 20,
     "metadata": {},
     "output_type": "execute_result"
    }
   ],
   "source": [
    "datalocal['age'].value_counts()"
   ]
  },
  {
   "cell_type": "code",
   "execution_count": 22,
   "metadata": {},
   "outputs": [],
   "source": [
    "datalocalsub = datasub[datasub['zip'].isin(zipcodes)]"
   ]
  },
  {
   "cell_type": "code",
   "execution_count": 24,
   "metadata": {},
   "outputs": [],
   "source": [
    "datarestsub = datasub[-datasub['zip'].isin(zipcodes)]"
   ]
  },
  {
   "cell_type": "code",
   "execution_count": 27,
   "metadata": {},
   "outputs": [
    {
     "data": {
      "text/plain": [
       "<matplotlib.axes._subplots.AxesSubplot at 0x1d5c3260470>"
      ]
     },
     "execution_count": 27,
     "metadata": {},
     "output_type": "execute_result"
    },
    {
     "data": {
      "image/png": "[encoded data removed]",
      "text/plain": [
       "<Figure size 432x288 with 1 Axes>"
      ]
     },
     "metadata": {},
     "output_type": "display_data"
    }
   ],
   "source": [
    "sns.countplot(x='years', data=datalocalsub.sort_values(by='years'))"
   ]
  },
  {
   "cell_type": "code",
   "execution_count": 28,
   "metadata": {},
   "outputs": [
    {
     "data": {
      "text/plain": [
       "65+      8926\n",
       "45-64    5837\n",
       "15-44    1140\n",
       "0-14       73\n",
       "Name: age, dtype: int64"
      ]
     },
     "execution_count": 28,
     "metadata": {},
     "output_type": "execute_result"
    }
   ],
   "source": [
    "datalocalsub['age'].value_counts()"
   ]
  },
  {
   "cell_type": "code",
   "execution_count": 29,
   "metadata": {},
   "outputs": [
    {
     "data": {
      "text/plain": [
       "65+      548577\n",
       "45-64    369945\n",
       "15-44     80085\n",
       "0-14       6135\n",
       "Name: age, dtype: int64"
      ]
     },
     "execution_count": 29,
     "metadata": {},
     "output_type": "execute_result"
    }
   ],
   "source": [
    "datasub['age'].value_counts()"
   ]
  },
  {
   "cell_type": "code",
   "execution_count": 30,
   "metadata": {},
   "outputs": [
    {
     "data": {
      "text/plain": [
       "<matplotlib.legend.Legend at 0x1d5c30b1a90>"
      ]
     },
     "execution_count": 30,
     "metadata": {},
     "output_type": "execute_result"
    },
    {
     "data": {
      "image/png": "[encoded data removed]",
      "text/plain": [
       "<Figure size 432x288 with 1 Axes>"
      ]
     },
     "metadata": {},
     "output_type": "display_data"
    }
   ],
   "source": [
    "sns.countplot(x='years', hue='age', data=datalocalsub.sort_values(by=['years', 'age']))\n",
    "plt.legend(bbox_to_anchor=(1.05, .5), loc=2)"
   ]
  },
  {
   "cell_type": "code",
   "execution_count": null,
   "metadata": {},
   "outputs": [],
   "source": []
  },
  {
   "cell_type": "code",
   "execution_count": null,
   "metadata": {},
   "outputs": [],
   "source": []
  },
  {
   "cell_type": "code",
   "execution_count": null,
   "metadata": {},
   "outputs": [],
   "source": []
  },
  {
   "cell_type": "code",
   "execution_count": null,
   "metadata": {},
   "outputs": [],
   "source": []
  },
  {
   "cell_type": "code",
   "execution_count": 25,
   "metadata": {},
   "outputs": [],
   "source": [
    "pop_illinois = 12830632\n",
    "num_cases = datasub.shape[0]\n",
    "num_cases_per_year = num_cases/15\n",
    "one_in_every_il = pop_illinois/num_cases_per_year\n",
    "per_100000_il_per_year = num_cases_per_year * 100000 / pop_illinois"
   ]
  },
  {
   "cell_type": "code",
   "execution_count": 26,
   "metadata": {},
   "outputs": [
    {
     "data": {
      "text/plain": [
       "191.55114447290944"
      ]
     },
     "execution_count": 26,
     "metadata": {},
     "output_type": "execute_result"
    }
   ],
   "source": [
    "one_in_every_il"
   ]
  },
  {
   "cell_type": "code",
   "execution_count": 27,
   "metadata": {},
   "outputs": [],
   "source": [
    "ilpop = pd.read_csv('./Data/il_2010_populations.csv', skiprows=1)\n",
    "ilpop.drop(labels=['Id', 'Geography'], axis=1, inplace=True)\n",
    "ilpop.rename(index=str, columns={'Id2':'zip', 'Total':'population'}, inplace=True)"
   ]
  },
  {
   "cell_type": "code",
   "execution_count": 28,
   "metadata": {},
   "outputs": [],
   "source": [
    "cancer_counts = datasub['zip'].value_counts()\n",
    "ilcancer = cancer_counts.rename_axis('zip').reset_index(name='freq')\n",
    "ilcancer['zip'] = pd.to_numeric(ilcancer['zip'])"
   ]
  },
  {
   "cell_type": "code",
   "execution_count": null,
   "metadata": {},
   "outputs": [],
   "source": []
  },
  {
   "cell_type": "code",
   "execution_count": null,
   "metadata": {},
   "outputs": [],
   "source": []
  },
  {
   "cell_type": "code",
   "execution_count": 29,
   "metadata": {},
   "outputs": [
    {
     "data": {
      "text/html": [
       "<div>\n",
       "<style scoped>\n",
       "    .dataframe tbody tr th:only-of-type {\n",
       "        vertical-align: middle;\n",
       "    }\n",
       "\n",
       "    .dataframe tbody tr th {\n",
       "        vertical-align: top;\n",
       "    }\n",
       "\n",
       "    .dataframe thead th {\n",
       "        text-align: right;\n",
       "    }\n",
       "</style>\n",
       "<table border=\"1\" class=\"dataframe\">\n",
       "  <thead>\n",
       "    <tr style=\"text-align: right;\">\n",
       "      <th></th>\n",
       "      <th>zip</th>\n",
       "      <th>population</th>\n",
       "      <th>freq</th>\n",
       "      <th>per year</th>\n",
       "      <th>one in every X per year</th>\n",
       "      <th>per 100000 per year</th>\n",
       "      <th>zip vs state</th>\n",
       "    </tr>\n",
       "  </thead>\n",
       "  <tbody>\n",
       "    <tr>\n",
       "      <th>0</th>\n",
       "      <td>60002</td>\n",
       "      <td>24299</td>\n",
       "      <td>1978.0</td>\n",
       "      <td>131.866667</td>\n",
       "      <td>184.269464</td>\n",
       "      <td>542.683512</td>\n",
       "      <td>1.039516</td>\n",
       "    </tr>\n",
       "    <tr>\n",
       "      <th>1</th>\n",
       "      <td>60004</td>\n",
       "      <td>50582</td>\n",
       "      <td>4530.0</td>\n",
       "      <td>302.000000</td>\n",
       "      <td>167.490066</td>\n",
       "      <td>597.050334</td>\n",
       "      <td>1.143657</td>\n",
       "    </tr>\n",
       "    <tr>\n",
       "      <th>2</th>\n",
       "      <td>60005</td>\n",
       "      <td>29308</td>\n",
       "      <td>2790.0</td>\n",
       "      <td>186.000000</td>\n",
       "      <td>157.569892</td>\n",
       "      <td>634.639006</td>\n",
       "      <td>1.215658</td>\n",
       "    </tr>\n",
       "    <tr>\n",
       "      <th>3</th>\n",
       "      <td>60007</td>\n",
       "      <td>33820</td>\n",
       "      <td>3155.0</td>\n",
       "      <td>210.333333</td>\n",
       "      <td>160.792393</td>\n",
       "      <td>621.919968</td>\n",
       "      <td>1.191295</td>\n",
       "    </tr>\n",
       "    <tr>\n",
       "      <th>4</th>\n",
       "      <td>60008</td>\n",
       "      <td>22717</td>\n",
       "      <td>1723.0</td>\n",
       "      <td>114.866667</td>\n",
       "      <td>197.768427</td>\n",
       "      <td>505.641883</td>\n",
       "      <td>0.968563</td>\n",
       "    </tr>\n",
       "    <tr>\n",
       "      <th>5</th>\n",
       "      <td>60010</td>\n",
       "      <td>44095</td>\n",
       "      <td>4109.0</td>\n",
       "      <td>273.933333</td>\n",
       "      <td>160.969822</td>\n",
       "      <td>621.234456</td>\n",
       "      <td>1.189982</td>\n",
       "    </tr>\n",
       "  </tbody>\n",
       "</table>\n",
       "</div>"
      ],
      "text/plain": [
       "     zip  population    freq    per year  one in every X per year  \\\n",
       "0  60002       24299  1978.0  131.866667               184.269464   \n",
       "1  60004       50582  4530.0  302.000000               167.490066   \n",
       "2  60005       29308  2790.0  186.000000               157.569892   \n",
       "3  60007       33820  3155.0  210.333333               160.792393   \n",
       "4  60008       22717  1723.0  114.866667               197.768427   \n",
       "5  60010       44095  4109.0  273.933333               160.969822   \n",
       "\n",
       "   per 100000 per year  zip vs state  \n",
       "0           542.683512      1.039516  \n",
       "1           597.050334      1.143657  \n",
       "2           634.639006      1.215658  \n",
       "3           621.919968      1.191295  \n",
       "4           505.641883      0.968563  \n",
       "5           621.234456      1.189982  "
      ]
     },
     "execution_count": 29,
     "metadata": {},
     "output_type": "execute_result"
    }
   ],
   "source": [
    "cancer = pd.merge(ilpop, ilcancer, 'left')\n",
    "cancer['per year'] = cancer['freq']/15\n",
    "cancer['one in every X per year'] = cancer['population']/cancer['per year']\n",
    "cancer['per 100000 per year'] = cancer['per year']*100000/cancer['population']\n",
    "cancer['zip vs state'] = cancer['per 100000 per year']/per_100000_il_per_year\n",
    "cancer.head(6)"
   ]
  },
  {
   "cell_type": "code",
   "execution_count": 31,
   "metadata": {},
   "outputs": [
    {
     "data": {
      "text/html": [
       "<div>\n",
       "<style scoped>\n",
       "    .dataframe tbody tr th:only-of-type {\n",
       "        vertical-align: middle;\n",
       "    }\n",
       "\n",
       "    .dataframe tbody tr th {\n",
       "        vertical-align: top;\n",
       "    }\n",
       "\n",
       "    .dataframe thead th {\n",
       "        text-align: right;\n",
       "    }\n",
       "</style>\n",
       "<table border=\"1\" class=\"dataframe\">\n",
       "  <thead>\n",
       "    <tr style=\"text-align: right;\">\n",
       "      <th></th>\n",
       "      <th>zip</th>\n",
       "      <th>population</th>\n",
       "      <th>freq</th>\n",
       "      <th>per year</th>\n",
       "      <th>one in every X per year</th>\n",
       "      <th>per 100000 per year</th>\n",
       "      <th>zip vs state</th>\n",
       "    </tr>\n",
       "  </thead>\n",
       "  <tbody>\n",
       "    <tr>\n",
       "      <th>239</th>\n",
       "      <td>60525</td>\n",
       "      <td>31168</td>\n",
       "      <td>3389.0</td>\n",
       "      <td>225.933333</td>\n",
       "      <td>137.952198</td>\n",
       "      <td>724.888775</td>\n",
       "      <td>1.388533</td>\n",
       "    </tr>\n",
       "    <tr>\n",
       "      <th>270</th>\n",
       "      <td>60561</td>\n",
       "      <td>23115</td>\n",
       "      <td>2341.0</td>\n",
       "      <td>156.066667</td>\n",
       "      <td>148.109782</td>\n",
       "      <td>675.174850</td>\n",
       "      <td>1.293305</td>\n",
       "    </tr>\n",
       "    <tr>\n",
       "      <th>231</th>\n",
       "      <td>60515</td>\n",
       "      <td>27503</td>\n",
       "      <td>2727.0</td>\n",
       "      <td>181.800000</td>\n",
       "      <td>151.281628</td>\n",
       "      <td>661.018798</td>\n",
       "      <td>1.266189</td>\n",
       "    </tr>\n",
       "    <tr>\n",
       "      <th>241</th>\n",
       "      <td>60527</td>\n",
       "      <td>27486</td>\n",
       "      <td>2720.0</td>\n",
       "      <td>181.333333</td>\n",
       "      <td>151.577206</td>\n",
       "      <td>659.729802</td>\n",
       "      <td>1.263720</td>\n",
       "    </tr>\n",
       "    <tr>\n",
       "      <th>213</th>\n",
       "      <td>60480</td>\n",
       "      <td>5246</td>\n",
       "      <td>494.0</td>\n",
       "      <td>32.933333</td>\n",
       "      <td>159.291498</td>\n",
       "      <td>627.779896</td>\n",
       "      <td>1.202520</td>\n",
       "    </tr>\n",
       "    <tr>\n",
       "      <th>267</th>\n",
       "      <td>60558</td>\n",
       "      <td>12960</td>\n",
       "      <td>1214.0</td>\n",
       "      <td>80.933333</td>\n",
       "      <td>160.131796</td>\n",
       "      <td>624.485597</td>\n",
       "      <td>1.196209</td>\n",
       "    </tr>\n",
       "    <tr>\n",
       "      <th>173</th>\n",
       "      <td>60439</td>\n",
       "      <td>22919</td>\n",
       "      <td>2049.0</td>\n",
       "      <td>136.600000</td>\n",
       "      <td>167.781845</td>\n",
       "      <td>596.012042</td>\n",
       "      <td>1.141668</td>\n",
       "    </tr>\n",
       "    <tr>\n",
       "      <th>232</th>\n",
       "      <td>60516</td>\n",
       "      <td>29084</td>\n",
       "      <td>2544.0</td>\n",
       "      <td>169.600000</td>\n",
       "      <td>171.485849</td>\n",
       "      <td>583.138495</td>\n",
       "      <td>1.117008</td>\n",
       "    </tr>\n",
       "    <tr>\n",
       "      <th>237</th>\n",
       "      <td>60521</td>\n",
       "      <td>17597</td>\n",
       "      <td>1529.0</td>\n",
       "      <td>101.933333</td>\n",
       "      <td>172.632440</td>\n",
       "      <td>579.265405</td>\n",
       "      <td>1.109590</td>\n",
       "    </tr>\n",
       "    <tr>\n",
       "      <th>230</th>\n",
       "      <td>60514</td>\n",
       "      <td>9708</td>\n",
       "      <td>817.0</td>\n",
       "      <td>54.466667</td>\n",
       "      <td>178.237454</td>\n",
       "      <td>561.049306</td>\n",
       "      <td>1.074696</td>\n",
       "    </tr>\n",
       "    <tr>\n",
       "      <th>268</th>\n",
       "      <td>60559</td>\n",
       "      <td>24852</td>\n",
       "      <td>1917.0</td>\n",
       "      <td>127.800000</td>\n",
       "      <td>194.460094</td>\n",
       "      <td>514.244326</td>\n",
       "      <td>0.985041</td>\n",
       "    </tr>\n",
       "    <tr>\n",
       "      <th>233</th>\n",
       "      <td>60517</td>\n",
       "      <td>32038</td>\n",
       "      <td>2110.0</td>\n",
       "      <td>140.666667</td>\n",
       "      <td>227.758294</td>\n",
       "      <td>439.061947</td>\n",
       "      <td>0.841028</td>\n",
       "    </tr>\n",
       "  </tbody>\n",
       "</table>\n",
       "</div>"
      ],
      "text/plain": [
       "       zip  population    freq    per year  one in every X per year  \\\n",
       "239  60525       31168  3389.0  225.933333               137.952198   \n",
       "270  60561       23115  2341.0  156.066667               148.109782   \n",
       "231  60515       27503  2727.0  181.800000               151.281628   \n",
       "241  60527       27486  2720.0  181.333333               151.577206   \n",
       "213  60480        5246   494.0   32.933333               159.291498   \n",
       "267  60558       12960  1214.0   80.933333               160.131796   \n",
       "173  60439       22919  2049.0  136.600000               167.781845   \n",
       "232  60516       29084  2544.0  169.600000               171.485849   \n",
       "237  60521       17597  1529.0  101.933333               172.632440   \n",
       "230  60514        9708   817.0   54.466667               178.237454   \n",
       "268  60559       24852  1917.0  127.800000               194.460094   \n",
       "233  60517       32038  2110.0  140.666667               227.758294   \n",
       "\n",
       "     per 100000 per year  zip vs state  \n",
       "239           724.888775      1.388533  \n",
       "270           675.174850      1.293305  \n",
       "231           661.018798      1.266189  \n",
       "241           659.729802      1.263720  \n",
       "213           627.779896      1.202520  \n",
       "267           624.485597      1.196209  \n",
       "173           596.012042      1.141668  \n",
       "232           583.138495      1.117008  \n",
       "237           579.265405      1.109590  \n",
       "230           561.049306      1.074696  \n",
       "268           514.244326      0.985041  \n",
       "233           439.061947      0.841028  "
      ]
     },
     "execution_count": 31,
     "metadata": {},
     "output_type": "execute_result"
    }
   ],
   "source": [
    "cancer_local = cancer[cancer['zip'].isin(zipcodes)].sort_values('zip vs state', ascending=False)\n",
    "cancer_local"
   ]
  },
  {
   "cell_type": "code",
   "execution_count": 33,
   "metadata": {},
   "outputs": [
    {
     "data": {
      "text/html": [
       "<div>\n",
       "<style scoped>\n",
       "    .dataframe tbody tr th:only-of-type {\n",
       "        vertical-align: middle;\n",
       "    }\n",
       "\n",
       "    .dataframe tbody tr th {\n",
       "        vertical-align: top;\n",
       "    }\n",
       "\n",
       "    .dataframe thead th {\n",
       "        text-align: right;\n",
       "    }\n",
       "</style>\n",
       "<table border=\"1\" class=\"dataframe\">\n",
       "  <thead>\n",
       "    <tr style=\"text-align: right;\">\n",
       "      <th></th>\n",
       "      <th>zip</th>\n",
       "      <th>population</th>\n",
       "      <th>freq</th>\n",
       "      <th>per year</th>\n",
       "      <th>one in every X per year</th>\n",
       "      <th>per 100000 per year</th>\n",
       "      <th>zip vs state</th>\n",
       "    </tr>\n",
       "  </thead>\n",
       "  <tbody>\n",
       "    <tr>\n",
       "      <th>0</th>\n",
       "      <td>60002</td>\n",
       "      <td>24299</td>\n",
       "      <td>1978.0</td>\n",
       "      <td>131.866667</td>\n",
       "      <td>184.269464</td>\n",
       "      <td>542.683512</td>\n",
       "      <td>1.039516</td>\n",
       "    </tr>\n",
       "    <tr>\n",
       "      <th>1</th>\n",
       "      <td>60004</td>\n",
       "      <td>50582</td>\n",
       "      <td>4530.0</td>\n",
       "      <td>302.000000</td>\n",
       "      <td>167.490066</td>\n",
       "      <td>597.050334</td>\n",
       "      <td>1.143657</td>\n",
       "    </tr>\n",
       "    <tr>\n",
       "      <th>2</th>\n",
       "      <td>60005</td>\n",
       "      <td>29308</td>\n",
       "      <td>2790.0</td>\n",
       "      <td>186.000000</td>\n",
       "      <td>157.569892</td>\n",
       "      <td>634.639006</td>\n",
       "      <td>1.215658</td>\n",
       "    </tr>\n",
       "    <tr>\n",
       "      <th>3</th>\n",
       "      <td>60007</td>\n",
       "      <td>33820</td>\n",
       "      <td>3155.0</td>\n",
       "      <td>210.333333</td>\n",
       "      <td>160.792393</td>\n",
       "      <td>621.919968</td>\n",
       "      <td>1.191295</td>\n",
       "    </tr>\n",
       "    <tr>\n",
       "      <th>4</th>\n",
       "      <td>60008</td>\n",
       "      <td>22717</td>\n",
       "      <td>1723.0</td>\n",
       "      <td>114.866667</td>\n",
       "      <td>197.768427</td>\n",
       "      <td>505.641883</td>\n",
       "      <td>0.968563</td>\n",
       "    </tr>\n",
       "  </tbody>\n",
       "</table>\n",
       "</div>"
      ],
      "text/plain": [
       "     zip  population    freq    per year  one in every X per year  \\\n",
       "0  60002       24299  1978.0  131.866667               184.269464   \n",
       "1  60004       50582  4530.0  302.000000               167.490066   \n",
       "2  60005       29308  2790.0  186.000000               157.569892   \n",
       "3  60007       33820  3155.0  210.333333               160.792393   \n",
       "4  60008       22717  1723.0  114.866667               197.768427   \n",
       "\n",
       "   per 100000 per year  zip vs state  \n",
       "0           542.683512      1.039516  \n",
       "1           597.050334      1.143657  \n",
       "2           634.639006      1.215658  \n",
       "3           621.919968      1.191295  \n",
       "4           505.641883      0.968563  "
      ]
     },
     "execution_count": 33,
     "metadata": {},
     "output_type": "execute_result"
    }
   ],
   "source": [
    "cancer_rest = cancer[-cancer['zip'].isin(zipcodes)]\n",
    "cancer_rest.head()"
   ]
  },
  {
   "cell_type": "code",
   "execution_count": 37,
   "metadata": {},
   "outputs": [
    {
     "data": {
      "text/html": [
       "<div>\n",
       "<style scoped>\n",
       "    .dataframe tbody tr th:only-of-type {\n",
       "        vertical-align: middle;\n",
       "    }\n",
       "\n",
       "    .dataframe tbody tr th {\n",
       "        vertical-align: top;\n",
       "    }\n",
       "\n",
       "    .dataframe thead th {\n",
       "        text-align: right;\n",
       "    }\n",
       "</style>\n",
       "<table border=\"1\" class=\"dataframe\">\n",
       "  <thead>\n",
       "    <tr style=\"text-align: right;\">\n",
       "      <th></th>\n",
       "      <th>zip</th>\n",
       "      <th>population</th>\n",
       "      <th>freq</th>\n",
       "      <th>per year</th>\n",
       "      <th>one in every X per year</th>\n",
       "      <th>per 100000 per year</th>\n",
       "      <th>zip vs state</th>\n",
       "    </tr>\n",
       "  </thead>\n",
       "  <tbody>\n",
       "    <tr>\n",
       "      <th>0</th>\n",
       "      <td>60002</td>\n",
       "      <td>24299</td>\n",
       "      <td>1978.0</td>\n",
       "      <td>131.866667</td>\n",
       "      <td>184.269464</td>\n",
       "      <td>542.683512</td>\n",
       "      <td>1.039516</td>\n",
       "    </tr>\n",
       "    <tr>\n",
       "      <th>1</th>\n",
       "      <td>60004</td>\n",
       "      <td>50582</td>\n",
       "      <td>4530.0</td>\n",
       "      <td>302.000000</td>\n",
       "      <td>167.490066</td>\n",
       "      <td>597.050334</td>\n",
       "      <td>1.143657</td>\n",
       "    </tr>\n",
       "    <tr>\n",
       "      <th>2</th>\n",
       "      <td>60005</td>\n",
       "      <td>29308</td>\n",
       "      <td>2790.0</td>\n",
       "      <td>186.000000</td>\n",
       "      <td>157.569892</td>\n",
       "      <td>634.639006</td>\n",
       "      <td>1.215658</td>\n",
       "    </tr>\n",
       "    <tr>\n",
       "      <th>3</th>\n",
       "      <td>60007</td>\n",
       "      <td>33820</td>\n",
       "      <td>3155.0</td>\n",
       "      <td>210.333333</td>\n",
       "      <td>160.792393</td>\n",
       "      <td>621.919968</td>\n",
       "      <td>1.191295</td>\n",
       "    </tr>\n",
       "    <tr>\n",
       "      <th>4</th>\n",
       "      <td>60008</td>\n",
       "      <td>22717</td>\n",
       "      <td>1723.0</td>\n",
       "      <td>114.866667</td>\n",
       "      <td>197.768427</td>\n",
       "      <td>505.641883</td>\n",
       "      <td>0.968563</td>\n",
       "    </tr>\n",
       "  </tbody>\n",
       "</table>\n",
       "</div>"
      ],
      "text/plain": [
       "     zip  population    freq    per year  one in every X per year  \\\n",
       "0  60002       24299  1978.0  131.866667               184.269464   \n",
       "1  60004       50582  4530.0  302.000000               167.490066   \n",
       "2  60005       29308  2790.0  186.000000               157.569892   \n",
       "3  60007       33820  3155.0  210.333333               160.792393   \n",
       "4  60008       22717  1723.0  114.866667               197.768427   \n",
       "\n",
       "   per 100000 per year  zip vs state  \n",
       "0           542.683512      1.039516  \n",
       "1           597.050334      1.143657  \n",
       "2           634.639006      1.215658  \n",
       "3           621.919968      1.191295  \n",
       "4           505.641883      0.968563  "
      ]
     },
     "execution_count": 37,
     "metadata": {},
     "output_type": "execute_result"
    }
   ],
   "source": [
    "cancer_rest_big = cancer_rest[cancer_rest['population'] > 5000]\n",
    "cancer_rest_big.head()"
   ]
  },
  {
   "cell_type": "code",
   "execution_count": 42,
   "metadata": {},
   "outputs": [
    {
     "data": {
      "text/plain": [
       "Text(7.5,512.054,'522.05')"
      ]
     },
     "execution_count": 42,
     "metadata": {},
     "output_type": "execute_result"
    },
    {
     "data": {
      "image/png": "[encoded data removed]",
      "text/plain": [
       "<Figure size 432x288 with 1 Axes>"
      ]
     },
     "metadata": {},
     "output_type": "display_data"
    }
   ],
   "source": [
    "sns.barplot(x='zip', y='per 100000 per year', data=cancer_local)\n",
    "plt.axhline(y=per_100000_il_per_year, color='black', linewidth=3)\n",
    "plt.text(7.5, per_100000_il_per_year-10, round(per_100000_il_per_year, 2))"
   ]
  },
  {
   "cell_type": "code",
   "execution_count": null,
   "metadata": {},
   "outputs": [],
   "source": []
  },
  {
   "cell_type": "code",
   "execution_count": null,
   "metadata": {},
   "outputs": [],
   "source": []
  },
  {
   "cell_type": "code",
   "execution_count": null,
   "metadata": {},
   "outputs": [],
   "source": []
  },
  {
   "cell_type": "code",
   "execution_count": 38,
   "metadata": {},
   "outputs": [],
   "source": [
    "local_counts = datalocalsub.groupby(['years', 'zip'])\n",
    "local_counts = local_counts.size().reset_index()\n",
    "local_counts.rename(index = str, columns= {0:'n'}, inplace=True)"
   ]
  },
  {
   "cell_type": "code",
   "execution_count": 39,
   "metadata": {},
   "outputs": [],
   "source": [
    "illinois_counts = datasub.groupby('years')\n",
    "illinois_counts = illinois_counts.size().reset_index()\n",
    "illinois_counts['zip'] = ['Illinois', 'Illinois', 'Illinois']\n",
    "illinois_counts.rename(index=str, columns={0:'n'}, inplace=True)\n",
    "illinois_counts = illinois_counts[['years', 'zip', 'n']]"
   ]
  },
  {
   "cell_type": "code",
   "execution_count": 40,
   "metadata": {},
   "outputs": [
    {
     "data": {
      "text/html": [
       "<div>\n",
       "<style scoped>\n",
       "    .dataframe tbody tr th:only-of-type {\n",
       "        vertical-align: middle;\n",
       "    }\n",
       "\n",
       "    .dataframe tbody tr th {\n",
       "        vertical-align: top;\n",
       "    }\n",
       "\n",
       "    .dataframe thead th {\n",
       "        text-align: right;\n",
       "    }\n",
       "</style>\n",
       "<table border=\"1\" class=\"dataframe\">\n",
       "  <thead>\n",
       "    <tr style=\"text-align: right;\">\n",
       "      <th></th>\n",
       "      <th>years</th>\n",
       "      <th>zip</th>\n",
       "      <th>n</th>\n",
       "    </tr>\n",
       "  </thead>\n",
       "  <tbody>\n",
       "    <tr>\n",
       "      <th>0</th>\n",
       "      <td>2001-2005</td>\n",
       "      <td>60439</td>\n",
       "      <td>589</td>\n",
       "    </tr>\n",
       "    <tr>\n",
       "      <th>1</th>\n",
       "      <td>2001-2005</td>\n",
       "      <td>60480</td>\n",
       "      <td>148</td>\n",
       "    </tr>\n",
       "    <tr>\n",
       "      <th>2</th>\n",
       "      <td>2001-2005</td>\n",
       "      <td>60514</td>\n",
       "      <td>282</td>\n",
       "    </tr>\n",
       "    <tr>\n",
       "      <th>3</th>\n",
       "      <td>2001-2005</td>\n",
       "      <td>60515</td>\n",
       "      <td>933</td>\n",
       "    </tr>\n",
       "    <tr>\n",
       "      <th>4</th>\n",
       "      <td>2001-2005</td>\n",
       "      <td>60516</td>\n",
       "      <td>804</td>\n",
       "    </tr>\n",
       "    <tr>\n",
       "      <th>5</th>\n",
       "      <td>2001-2005</td>\n",
       "      <td>60517</td>\n",
       "      <td>613</td>\n",
       "    </tr>\n",
       "    <tr>\n",
       "      <th>6</th>\n",
       "      <td>2001-2005</td>\n",
       "      <td>60521</td>\n",
       "      <td>522</td>\n",
       "    </tr>\n",
       "    <tr>\n",
       "      <th>7</th>\n",
       "      <td>2001-2005</td>\n",
       "      <td>60525</td>\n",
       "      <td>1102</td>\n",
       "    </tr>\n",
       "    <tr>\n",
       "      <th>8</th>\n",
       "      <td>2001-2005</td>\n",
       "      <td>60527</td>\n",
       "      <td>849</td>\n",
       "    </tr>\n",
       "    <tr>\n",
       "      <th>9</th>\n",
       "      <td>2001-2005</td>\n",
       "      <td>60558</td>\n",
       "      <td>375</td>\n",
       "    </tr>\n",
       "    <tr>\n",
       "      <th>10</th>\n",
       "      <td>2001-2005</td>\n",
       "      <td>60559</td>\n",
       "      <td>606</td>\n",
       "    </tr>\n",
       "    <tr>\n",
       "      <th>11</th>\n",
       "      <td>2001-2005</td>\n",
       "      <td>60561</td>\n",
       "      <td>705</td>\n",
       "    </tr>\n",
       "    <tr>\n",
       "      <th>12</th>\n",
       "      <td>2006-2010</td>\n",
       "      <td>60439</td>\n",
       "      <td>746</td>\n",
       "    </tr>\n",
       "    <tr>\n",
       "      <th>13</th>\n",
       "      <td>2006-2010</td>\n",
       "      <td>60480</td>\n",
       "      <td>178</td>\n",
       "    </tr>\n",
       "    <tr>\n",
       "      <th>14</th>\n",
       "      <td>2006-2010</td>\n",
       "      <td>60514</td>\n",
       "      <td>275</td>\n",
       "    </tr>\n",
       "    <tr>\n",
       "      <th>15</th>\n",
       "      <td>2006-2010</td>\n",
       "      <td>60515</td>\n",
       "      <td>871</td>\n",
       "    </tr>\n",
       "    <tr>\n",
       "      <th>16</th>\n",
       "      <td>2006-2010</td>\n",
       "      <td>60516</td>\n",
       "      <td>861</td>\n",
       "    </tr>\n",
       "    <tr>\n",
       "      <th>17</th>\n",
       "      <td>2006-2010</td>\n",
       "      <td>60517</td>\n",
       "      <td>697</td>\n",
       "    </tr>\n",
       "    <tr>\n",
       "      <th>18</th>\n",
       "      <td>2006-2010</td>\n",
       "      <td>60521</td>\n",
       "      <td>532</td>\n",
       "    </tr>\n",
       "    <tr>\n",
       "      <th>19</th>\n",
       "      <td>2006-2010</td>\n",
       "      <td>60525</td>\n",
       "      <td>1173</td>\n",
       "    </tr>\n",
       "    <tr>\n",
       "      <th>20</th>\n",
       "      <td>2006-2010</td>\n",
       "      <td>60527</td>\n",
       "      <td>911</td>\n",
       "    </tr>\n",
       "    <tr>\n",
       "      <th>21</th>\n",
       "      <td>2006-2010</td>\n",
       "      <td>60558</td>\n",
       "      <td>420</td>\n",
       "    </tr>\n",
       "    <tr>\n",
       "      <th>22</th>\n",
       "      <td>2006-2010</td>\n",
       "      <td>60559</td>\n",
       "      <td>684</td>\n",
       "    </tr>\n",
       "    <tr>\n",
       "      <th>23</th>\n",
       "      <td>2006-2010</td>\n",
       "      <td>60561</td>\n",
       "      <td>778</td>\n",
       "    </tr>\n",
       "    <tr>\n",
       "      <th>24</th>\n",
       "      <td>2011-2015</td>\n",
       "      <td>60439</td>\n",
       "      <td>714</td>\n",
       "    </tr>\n",
       "    <tr>\n",
       "      <th>25</th>\n",
       "      <td>2011-2015</td>\n",
       "      <td>60480</td>\n",
       "      <td>168</td>\n",
       "    </tr>\n",
       "    <tr>\n",
       "      <th>26</th>\n",
       "      <td>2011-2015</td>\n",
       "      <td>60514</td>\n",
       "      <td>260</td>\n",
       "    </tr>\n",
       "    <tr>\n",
       "      <th>27</th>\n",
       "      <td>2011-2015</td>\n",
       "      <td>60515</td>\n",
       "      <td>923</td>\n",
       "    </tr>\n",
       "    <tr>\n",
       "      <th>28</th>\n",
       "      <td>2011-2015</td>\n",
       "      <td>60516</td>\n",
       "      <td>879</td>\n",
       "    </tr>\n",
       "    <tr>\n",
       "      <th>29</th>\n",
       "      <td>2011-2015</td>\n",
       "      <td>60517</td>\n",
       "      <td>800</td>\n",
       "    </tr>\n",
       "    <tr>\n",
       "      <th>30</th>\n",
       "      <td>2011-2015</td>\n",
       "      <td>60521</td>\n",
       "      <td>475</td>\n",
       "    </tr>\n",
       "    <tr>\n",
       "      <th>31</th>\n",
       "      <td>2011-2015</td>\n",
       "      <td>60525</td>\n",
       "      <td>1114</td>\n",
       "    </tr>\n",
       "    <tr>\n",
       "      <th>32</th>\n",
       "      <td>2011-2015</td>\n",
       "      <td>60527</td>\n",
       "      <td>960</td>\n",
       "    </tr>\n",
       "    <tr>\n",
       "      <th>33</th>\n",
       "      <td>2011-2015</td>\n",
       "      <td>60558</td>\n",
       "      <td>419</td>\n",
       "    </tr>\n",
       "    <tr>\n",
       "      <th>34</th>\n",
       "      <td>2011-2015</td>\n",
       "      <td>60559</td>\n",
       "      <td>627</td>\n",
       "    </tr>\n",
       "    <tr>\n",
       "      <th>35</th>\n",
       "      <td>2011-2015</td>\n",
       "      <td>60561</td>\n",
       "      <td>858</td>\n",
       "    </tr>\n",
       "    <tr>\n",
       "      <th>0</th>\n",
       "      <td>2001-2005</td>\n",
       "      <td>Illinois</td>\n",
       "      <td>317779</td>\n",
       "    </tr>\n",
       "    <tr>\n",
       "      <th>1</th>\n",
       "      <td>2006-2010</td>\n",
       "      <td>Illinois</td>\n",
       "      <td>339403</td>\n",
       "    </tr>\n",
       "    <tr>\n",
       "      <th>2</th>\n",
       "      <td>2011-2015</td>\n",
       "      <td>Illinois</td>\n",
       "      <td>347560</td>\n",
       "    </tr>\n",
       "  </tbody>\n",
       "</table>\n",
       "</div>"
      ],
      "text/plain": [
       "        years       zip       n\n",
       "0   2001-2005     60439     589\n",
       "1   2001-2005     60480     148\n",
       "2   2001-2005     60514     282\n",
       "3   2001-2005     60515     933\n",
       "4   2001-2005     60516     804\n",
       "5   2001-2005     60517     613\n",
       "6   2001-2005     60521     522\n",
       "7   2001-2005     60525    1102\n",
       "8   2001-2005     60527     849\n",
       "9   2001-2005     60558     375\n",
       "10  2001-2005     60559     606\n",
       "11  2001-2005     60561     705\n",
       "12  2006-2010     60439     746\n",
       "13  2006-2010     60480     178\n",
       "14  2006-2010     60514     275\n",
       "15  2006-2010     60515     871\n",
       "16  2006-2010     60516     861\n",
       "17  2006-2010     60517     697\n",
       "18  2006-2010     60521     532\n",
       "19  2006-2010     60525    1173\n",
       "20  2006-2010     60527     911\n",
       "21  2006-2010     60558     420\n",
       "22  2006-2010     60559     684\n",
       "23  2006-2010     60561     778\n",
       "24  2011-2015     60439     714\n",
       "25  2011-2015     60480     168\n",
       "26  2011-2015     60514     260\n",
       "27  2011-2015     60515     923\n",
       "28  2011-2015     60516     879\n",
       "29  2011-2015     60517     800\n",
       "30  2011-2015     60521     475\n",
       "31  2011-2015     60525    1114\n",
       "32  2011-2015     60527     960\n",
       "33  2011-2015     60558     419\n",
       "34  2011-2015     60559     627\n",
       "35  2011-2015     60561     858\n",
       "0   2001-2005  Illinois  317779\n",
       "1   2006-2010  Illinois  339403\n",
       "2   2011-2015  Illinois  347560"
      ]
     },
     "execution_count": 40,
     "metadata": {},
     "output_type": "execute_result"
    }
   ],
   "source": [
    "counts = local_counts.append(illinois_counts)\n",
    "counts"
   ]
  },
  {
   "cell_type": "code",
   "execution_count": 41,
   "metadata": {
    "scrolled": false
   },
   "outputs": [
    {
     "data": {
      "image/png": "[encoded data removed]",
      "text/plain": [
       "<Figure size 864x1440 with 13 Axes>"
      ]
     },
     "metadata": {},
     "output_type": "display_data"
    }
   ],
   "source": [
    "g = sns.FacetGrid(counts, col='zip', col_wrap = 3, size=4, sharey = False)\n",
    "g = g.map(plt.bar, 'years', 'n')"
   ]
  },
  {
   "cell_type": "code",
   "execution_count": null,
   "metadata": {},
   "outputs": [],
   "source": []
  },
  {
   "cell_type": "code",
   "execution_count": 96,
   "metadata": {},
   "outputs": [],
   "source": [
    "t1, p1 = stats.ttest_ind(a=cancer_local['per 100000 per year'], b=cancer_rest_big['per 100000 per year'], equal_var=False)"
   ]
  },
  {
   "cell_type": "code",
   "execution_count": 103,
   "metadata": {},
   "outputs": [
    {
     "data": {
      "text/plain": [
       "2.606812634131959"
      ]
     },
     "execution_count": 103,
     "metadata": {},
     "output_type": "execute_result"
    }
   ],
   "source": [
    "t1"
   ]
  },
  {
   "cell_type": "code",
   "execution_count": 100,
   "metadata": {},
   "outputs": [
    {
     "data": {
      "text/plain": [
       "0.01092563736300002"
      ]
     },
     "execution_count": 100,
     "metadata": {},
     "output_type": "execute_result"
    }
   ],
   "source": [
    "p1/2"
   ]
  },
  {
   "cell_type": "code",
   "execution_count": 54,
   "metadata": {},
   "outputs": [],
   "source": [
    "local_cancer = cancer_local['freq'].sum()/15\n",
    "local_no_cancer = cancer_local['population'].sum()/15-local_cancer\n",
    "rest_cancer = cancer_rest_big['freq'].sum()/15\n",
    "rest_no_cancer = cancer_rest_big['population'].sum()/15-rest_cancer"
   ]
  },
  {
   "cell_type": "code",
   "execution_count": 106,
   "metadata": {},
   "outputs": [
    {
     "data": {
      "text/html": [
       "<div>\n",
       "<style scoped>\n",
       "    .dataframe tbody tr th:only-of-type {\n",
       "        vertical-align: middle;\n",
       "    }\n",
       "\n",
       "    .dataframe tbody tr th {\n",
       "        vertical-align: top;\n",
       "    }\n",
       "\n",
       "    .dataframe thead th {\n",
       "        text-align: right;\n",
       "    }\n",
       "</style>\n",
       "<table border=\"1\" class=\"dataframe\">\n",
       "  <thead>\n",
       "    <tr style=\"text-align: right;\">\n",
       "      <th></th>\n",
       "      <th>Cancer</th>\n",
       "      <th>No Cancer</th>\n",
       "    </tr>\n",
       "  </thead>\n",
       "  <tbody>\n",
       "    <tr>\n",
       "      <th>Sterigenics Area</th>\n",
       "      <td>1590.0</td>\n",
       "      <td>15988.0</td>\n",
       "    </tr>\n",
       "    <tr>\n",
       "      <th>Rest of State</th>\n",
       "      <td>57705.0</td>\n",
       "      <td>700233.0</td>\n",
       "    </tr>\n",
       "  </tbody>\n",
       "</table>\n",
       "</div>"
      ],
      "text/plain": [
       "                   Cancer  No Cancer\n",
       "Sterigenics Area   1590.0    15988.0\n",
       "Rest of State     57705.0   700233.0"
      ]
     },
     "execution_count": 106,
     "metadata": {},
     "output_type": "execute_result"
    }
   ],
   "source": [
    "cont=[[local_cancer, local_no_cancer], [rest_cancer, rest_no_cancer]]\n",
    "cont = pd.DataFrame(cont)\n",
    "cont = cont.round(0)\n",
    "cont.columns = ['Cancer', 'No Cancer']\n",
    "cont.index = ['Sterigenics Area', 'Rest of State']\n",
    "cont"
   ]
  },
  {
   "cell_type": "code",
   "execution_count": 107,
   "metadata": {},
   "outputs": [],
   "source": [
    "chi2, p, dof, ex = stats.chi2_contingency(cont, correction = False)"
   ]
  },
  {
   "cell_type": "code",
   "execution_count": 108,
   "metadata": {},
   "outputs": [
    {
     "data": {
      "text/plain": [
       "49.88862397073374"
      ]
     },
     "execution_count": 108,
     "metadata": {},
     "output_type": "execute_result"
    }
   ],
   "source": [
    "chi2"
   ]
  },
  {
   "cell_type": "code",
   "execution_count": 109,
   "metadata": {},
   "outputs": [
    {
     "data": {
      "text/plain": [
       "1.627253865188461e-12"
      ]
     },
     "execution_count": 109,
     "metadata": {},
     "output_type": "execute_result"
    }
   ],
   "source": [
    "p"
   ]
  },
  {
   "cell_type": "code",
   "execution_count": 110,
   "metadata": {},
   "outputs": [
    {
     "data": {
      "text/plain": [
       "1"
      ]
     },
     "execution_count": 110,
     "metadata": {},
     "output_type": "execute_result"
    }
   ],
   "source": [
    "dof"
   ]
  },
  {
   "cell_type": "code",
   "execution_count": 111,
   "metadata": {},
   "outputs": [
    {
     "data": {
      "text/plain": [
       "array([[  1343.99227095,  16234.00772905],\n",
       "       [ 57951.00772905, 699986.99227095]])"
      ]
     },
     "execution_count": 111,
     "metadata": {},
     "output_type": "execute_result"
    }
   ],
   "source": [
    "ex"
   ]
  },
  {
   "cell_type": "code",
   "execution_count": null,
   "metadata": {},
   "outputs": [],
   "source": []
  }
 ],
 "metadata": {
  "kernelspec": {
   "display_name": "Python 3",
   "language": "python",
   "name": "python3"
  },
  "language_info": {
   "codemirror_mode": {
    "name": "ipython",
    "version": 3
   },
   "file_extension": ".py",
   "mimetype": "text/x-python",
   "name": "python",
   "nbconvert_exporter": "python",
   "pygments_lexer": "ipython3",
   "version": "3.6.5"
  }
 },
 "nbformat": 4,
 "nbformat_minor": 2
}
